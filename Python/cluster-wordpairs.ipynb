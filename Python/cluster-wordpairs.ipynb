{
 "cells": [
  {
   "cell_type": "code",
   "execution_count": 1,
   "metadata": {},
   "outputs": [],
   "source": [
    "import pandas as pd\n",
    "import numpy as np\n",
    "import scipy.cluster.hierarchy as sch\n",
    "import scipy.spatial.distance as ssd\n",
    "import matplotlib.pyplot as plt\n",
    "import os\n",
    "%matplotlib inline"
   ]
  },
  {
   "cell_type": "code",
   "execution_count": 93,
   "metadata": {},
   "outputs": [
    {
     "data": {
      "text/plain": [
       "'/Users/crystal.butler/Documents/Code_Projects/MiFace/Python/data/Distance_Output/MiFace_2.1-0003'"
      ]
     },
     "execution_count": 93,
     "metadata": {},
     "output_type": "execute_result"
    }
   ],
   "source": [
    "processing_dir = '/Users/crystal.butler/Documents/Code_Projects/MiFace/Python/data/Distance_Output/MiFace_2.1-0003/'\n",
    "os.chdir(processing_dir)\n",
    "os.getcwd()\n"
   ]
  },
  {
   "cell_type": "code",
   "execution_count": 94,
   "metadata": {},
   "outputs": [],
   "source": [
    "# Read in all-pairs similarity scores.\n",
    "scores_dir = 'Score_Lists/'\n",
    "labels_dir = 'Label_Lists/'"
   ]
  },
  {
   "cell_type": "code",
   "execution_count": 103,
   "metadata": {},
   "outputs": [
    {
     "name": "stdout",
     "output_type": "stream",
     "text": [
      "['0003.pairs.txt_scores.txt']\n",
      "['0003.pairs.txt_labels.txt']\n",
      "Score_Lists/0003.pairs.txt_scores.txt\n",
      "Label_Lists/0003.pairs.txt_labels.txt\n"
     ]
    }
   ],
   "source": [
    "(_, _, score_filename) = next(os.walk(scores_dir))\n",
    "(_, _, label_filename) = next(os.walk(labels_dir))\n",
    "print(score_filename)\n",
    "print(label_filename)\n",
    "score_path = os.path.join(scores_dir, score_filename[0])\n",
    "label_path = os.path.join(labels_dir, label_filename[0])\n",
    "print(score_path)\n",
    "print(label_path)"
   ]
  },
  {
   "cell_type": "code",
   "execution_count": 104,
   "metadata": {},
   "outputs": [],
   "source": [
    "pairs_scores = pd.read_csv(score_path, header=None)\n",
    "# Read in the list of scored words.\n",
    "labels = pd.read_csv(label_path, header=None)"
   ]
  },
  {
   "cell_type": "code",
   "execution_count": 105,
   "metadata": {},
   "outputs": [
    {
     "name": "stdout",
     "output_type": "stream",
     "text": [
      "<class 'pandas.core.frame.DataFrame'>\n",
      "<class 'pandas.core.frame.DataFrame'>\n"
     ]
    }
   ],
   "source": [
    "print(type(pairs_scores))\n",
    "print(type(labels))"
   ]
  },
  {
   "cell_type": "code",
   "execution_count": 6,
   "metadata": {
    "collapsed": true
   },
   "outputs": [
    {
     "data": {
      "text/html": [
       "<div>\n",
       "<style scoped>\n",
       "    .dataframe tbody tr th:only-of-type {\n",
       "        vertical-align: middle;\n",
       "    }\n",
       "\n",
       "    .dataframe tbody tr th {\n",
       "        vertical-align: top;\n",
       "    }\n",
       "\n",
       "    .dataframe thead th {\n",
       "        text-align: right;\n",
       "    }\n",
       "</style>\n",
       "<table border=\"1\" class=\"dataframe\">\n",
       "  <thead>\n",
       "    <tr style=\"text-align: right;\">\n",
       "      <th></th>\n",
       "      <th>0</th>\n",
       "    </tr>\n",
       "  </thead>\n",
       "  <tbody>\n",
       "    <tr>\n",
       "      <th>0</th>\n",
       "      <td>0.329435</td>\n",
       "    </tr>\n",
       "    <tr>\n",
       "      <th>1</th>\n",
       "      <td>0.264609</td>\n",
       "    </tr>\n",
       "    <tr>\n",
       "      <th>2</th>\n",
       "      <td>0.253338</td>\n",
       "    </tr>\n",
       "    <tr>\n",
       "      <th>3</th>\n",
       "      <td>0.158340</td>\n",
       "    </tr>\n",
       "    <tr>\n",
       "      <th>4</th>\n",
       "      <td>0.100460</td>\n",
       "    </tr>\n",
       "  </tbody>\n",
       "</table>\n",
       "</div>"
      ],
      "text/plain": [
       "          0\n",
       "0  0.329435\n",
       "1  0.264609\n",
       "2  0.253338\n",
       "3  0.158340\n",
       "4  0.100460"
      ]
     },
     "execution_count": 6,
     "metadata": {},
     "output_type": "execute_result"
    }
   ],
   "source": [
    "pairs_scores.head()"
   ]
  },
  {
   "cell_type": "code",
   "execution_count": 7,
   "metadata": {
    "collapsed": true
   },
   "outputs": [
    {
     "data": {
      "text/html": [
       "<div>\n",
       "<style scoped>\n",
       "    .dataframe tbody tr th:only-of-type {\n",
       "        vertical-align: middle;\n",
       "    }\n",
       "\n",
       "    .dataframe tbody tr th {\n",
       "        vertical-align: top;\n",
       "    }\n",
       "\n",
       "    .dataframe thead th {\n",
       "        text-align: right;\n",
       "    }\n",
       "</style>\n",
       "<table border=\"1\" class=\"dataframe\">\n",
       "  <thead>\n",
       "    <tr style=\"text-align: right;\">\n",
       "      <th></th>\n",
       "      <th>0</th>\n",
       "    </tr>\n",
       "  </thead>\n",
       "  <tbody>\n",
       "    <tr>\n",
       "      <th>0</th>\n",
       "      <td>serious</td>\n",
       "    </tr>\n",
       "    <tr>\n",
       "      <th>1</th>\n",
       "      <td>emotional</td>\n",
       "    </tr>\n",
       "    <tr>\n",
       "      <th>2</th>\n",
       "      <td>apprehensive</td>\n",
       "    </tr>\n",
       "    <tr>\n",
       "      <th>3</th>\n",
       "      <td>pensive</td>\n",
       "    </tr>\n",
       "    <tr>\n",
       "      <th>4</th>\n",
       "      <td>indifferent</td>\n",
       "    </tr>\n",
       "  </tbody>\n",
       "</table>\n",
       "</div>"
      ],
      "text/plain": [
       "              0\n",
       "0       serious\n",
       "1     emotional\n",
       "2  apprehensive\n",
       "3       pensive\n",
       "4   indifferent"
      ]
     },
     "execution_count": 7,
     "metadata": {},
     "output_type": "execute_result"
    }
   ],
   "source": [
    "labels.head()"
   ]
  },
  {
   "cell_type": "code",
   "execution_count": 106,
   "metadata": {},
   "outputs": [
    {
     "data": {
      "text/html": [
       "<div>\n",
       "<style scoped>\n",
       "    .dataframe tbody tr th:only-of-type {\n",
       "        vertical-align: middle;\n",
       "    }\n",
       "\n",
       "    .dataframe tbody tr th {\n",
       "        vertical-align: top;\n",
       "    }\n",
       "\n",
       "    .dataframe thead th {\n",
       "        text-align: right;\n",
       "    }\n",
       "</style>\n",
       "<table border=\"1\" class=\"dataframe\">\n",
       "  <thead>\n",
       "    <tr style=\"text-align: right;\">\n",
       "      <th></th>\n",
       "      <th>0</th>\n",
       "    </tr>\n",
       "  </thead>\n",
       "  <tbody>\n",
       "    <tr>\n",
       "      <th>0</th>\n",
       "      <td>0.670565</td>\n",
       "    </tr>\n",
       "    <tr>\n",
       "      <th>1</th>\n",
       "      <td>0.735391</td>\n",
       "    </tr>\n",
       "    <tr>\n",
       "      <th>2</th>\n",
       "      <td>0.746662</td>\n",
       "    </tr>\n",
       "    <tr>\n",
       "      <th>3</th>\n",
       "      <td>0.841660</td>\n",
       "    </tr>\n",
       "    <tr>\n",
       "      <th>4</th>\n",
       "      <td>0.899540</td>\n",
       "    </tr>\n",
       "  </tbody>\n",
       "</table>\n",
       "</div>"
      ],
      "text/plain": [
       "          0\n",
       "0  0.670565\n",
       "1  0.735391\n",
       "2  0.746662\n",
       "3  0.841660\n",
       "4  0.899540"
      ]
     },
     "execution_count": 106,
     "metadata": {},
     "output_type": "execute_result"
    }
   ],
   "source": [
    "# Transform similarity (proximity) scores to distances.\n",
    "pairs_distances = 1 - pairs_scores\n",
    "pairs_distances.head()"
   ]
  },
  {
   "cell_type": "code",
   "execution_count": 107,
   "metadata": {},
   "outputs": [
    {
     "name": "stdout",
     "output_type": "stream",
     "text": [
      "(780,)\n",
      "1\n",
      "(40,)\n",
      "1\n"
     ]
    }
   ],
   "source": [
    "# Create the distance array.\n",
    "distances_array = np.array(pairs_distances[0][:])\n",
    "labels_array = np.array(labels[0][:])\n",
    "sizeof_da = distances_array.shape\n",
    "print(sizeof_da)\n",
    "print(len(sizeof_da))\n",
    "sizeof_la = labels_array.shape\n",
    "print(sizeof_la)\n",
    "print(len(sizeof_la))"
   ]
  },
  {
   "cell_type": "code",
   "execution_count": 108,
   "metadata": {},
   "outputs": [
    {
     "name": "stdout",
     "output_type": "stream",
     "text": [
      "<class 'numpy.ndarray'>\n",
      "(780,)\n",
      "<class 'numpy.ndarray'>\n",
      "(40,)\n"
     ]
    }
   ],
   "source": [
    "print(type(distances_array))\n",
    "print(distances_array.shape)\n",
    "print(type(labels_array))\n",
    "print(labels_array.shape)"
   ]
  },
  {
   "cell_type": "code",
   "execution_count": 109,
   "metadata": {},
   "outputs": [
    {
     "name": "stdout",
     "output_type": "stream",
     "text": [
      "(39, 4)\n"
     ]
    }
   ],
   "source": [
    "# Create the linkage matrix Z.\n",
    "lnk = sch.linkage(distances_array, 'average')\n",
    "print(lnk.shape)\n",
    "\n",
    "# Fix distances that have become less than 0 due to floating point errors.\n",
    "for i in range(len(lnk)):\n",
    "    if lnk[i][2] < 0:\n",
    "        lnk[i][2] = 0"
   ]
  },
  {
   "cell_type": "code",
   "execution_count": 111,
   "metadata": {},
   "outputs": [
    {
     "name": "stdout",
     "output_type": "stream",
     "text": [
      "0003.pairs.txt_scores.txt\n",
      "0003\n"
     ]
    }
   ],
   "source": [
    "filename = os.path.basename(score_path)\n",
    "print(filename)\n",
    "image_number = filename.split('.')[0]\n",
    "print(image_number)"
   ]
  },
  {
   "cell_type": "code",
   "execution_count": 115,
   "metadata": {},
   "outputs": [
    {
     "data": {
      "image/png": "[encoded data removed]",
      "text/plain": [
       "<Figure size 1440x720 with 1 Axes>"
      ]
     },
     "metadata": {
      "needs_background": "light"
     },
     "output_type": "display_data"
    }
   ],
   "source": [
    "# Set up the plot.\n",
    "plt.figure(figsize=(20, 10))\n",
    "title = \"Image Number: \" + image_number\n",
    "plt.title(title, fontsize = 22)\n",
    "plt.rc('ytick',labelsize=16)\n",
    "plt.ylabel('Cophenetic Coefficient (Distance)', fontsize=18)\n",
    "plt.axhline(y=0.8375, color=\"grey\", linestyle=\"--\")\n",
    "\n",
    "# Create the dendrogram, with a cutoff of 0.8375.\n",
    "dend = sch.dendrogram(lnk, labels=labels_array, color_threshold=0.8375, leaf_font_size=16, leaf_rotation=90, count_sort='ascending')\n",
    "plt.show()"
   ]
  },
  {
   "cell_type": "code",
   "execution_count": 58,
   "metadata": {},
   "outputs": [
    {
     "name": "stdout",
     "output_type": "stream",
     "text": [
      "<class 'numpy.ndarray'>\n",
      "[1 2 3]\n",
      "3\n"
     ]
    }
   ],
   "source": [
    "# Get the values needed to determine cluster membership statistic.\n",
    "clusters = sch.fcluster(lnk, 0.8375, criterion='distance')\n",
    "cluster_count = len(np.unique(clusters))\n",
    "cluster_enumeration = np.unique(clusters)\n",
    "print(type(clusters))\n",
    "print(cluster_enumeration)\n",
    "print(cluster_count)"
   ]
  },
  {
   "cell_type": "code",
   "execution_count": 57,
   "metadata": {},
   "outputs": [
    {
     "name": "stdout",
     "output_type": "stream",
     "text": [
      "0.8774072595122155\n"
     ]
    }
   ],
   "source": [
    "# Calculate the cophenetic correlation coefficient statistic: closer to 1 is better.\n",
    "cophenetic_coefficient, cophenetic_list = sch.cophenet(lnk, distances_array)\n",
    "print(cophenetic_coefficient)"
   ]
  },
  {
   "cell_type": "code",
   "execution_count": 81,
   "metadata": {},
   "outputs": [
    {
     "name": "stdout",
     "output_type": "stream",
     "text": [
      "1 \t 3\n",
      "2 \t 4\n",
      "3 \t 33\n"
     ]
    }
   ],
   "source": [
    "# Get membership counts for each cluster.\n",
    "cluster_membership = {}\n",
    "for value in cluster_enumeration:\n",
    "    member_count = np.count_nonzero(clusters == value)\n",
    "    cluster_membership[value] = member_count\n",
    "for key in cluster_membership.keys():\n",
    "    print(key, '\\t', cluster_membership[key])"
   ]
  },
  {
   "cell_type": "code",
   "execution_count": 87,
   "metadata": {},
   "outputs": [
    {
     "name": "stdout",
     "output_type": "stream",
     "text": [
      "Percent membership in largest cluster: 82.5\n"
     ]
    }
   ],
   "source": [
    "# Calculate the percentage membership in the largest cluster.\n",
    "c_max = max(cluster_membership.values())\n",
    "c_sum = sum(cluster_membership.values())\n",
    "pct = 100 * (c_max / c_sum)\n",
    "print(f\"Percent membership in largest cluster: {pct}\")"
   ]
  },
  {
   "cell_type": "code",
   "execution_count": 89,
   "metadata": {},
   "outputs": [
    {
     "name": "stdout",
     "output_type": "stream",
     "text": [
      "pass\n"
     ]
    }
   ],
   "source": [
    "# Classify the clustering as passing or failing, based on percent membership in the largest cluster.\n",
    "pass_fail = 'pass' if pct >= 75 else 'fail'\n",
    "print(pass_fail)"
   ]
  },
  {
   "cell_type": "code",
   "execution_count": 92,
   "metadata": {},
   "outputs": [
    {
     "name": "stdout",
     "output_type": "stream",
     "text": [
      "0003.pairs.txt_scores.txt\n",
      "0003\n"
     ]
    }
   ],
   "source": []
  }
 ],
 "metadata": {
  "kernelspec": {
   "display_name": "Python 3.7.4 64-bit ('venv': venv)",
   "language": "python",
   "name": "python37464bitvenvvenv9626b9a3d579443a8d6f078afdc288d8"
  },
  "language_info": {
   "codemirror_mode": {
    "name": "ipython",
    "version": 3
   },
   "file_extension": ".py",
   "mimetype": "text/x-python",
   "name": "python",
   "nbconvert_exporter": "python",
   "pygments_lexer": "ipython3",
   "version": "3.7.4"
  }
 },
 "nbformat": 4,
 "nbformat_minor": 4
}
